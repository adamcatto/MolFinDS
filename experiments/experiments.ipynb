{
 "cells": [
  {
   "cell_type": "markdown",
   "metadata": {},
   "source": [
    "# MolFinDS – Experiments"
   ]
  },
  {
   "cell_type": "markdown",
   "metadata": {},
   "source": [
    "## 1. Imports"
   ]
  },
  {
   "cell_type": "code",
   "execution_count": 1,
   "metadata": {},
   "outputs": [],
   "source": [
    "import os\n",
    "\n",
    "import numpy as np\n",
    "import torch\n",
    "\n",
    "from ..data import load_data"
   ]
  },
  {
   "cell_type": "markdown",
   "metadata": {},
   "source": [
    "## 2. Settings / Configurations"
   ]
  },
  {
   "cell_type": "code",
   "execution_count": null,
   "metadata": {},
   "outputs": [],
   "source": [
    "# relevant paths\n",
    "DATA_PATH = '../data/'\n",
    "RAW_PATH = os.path.join(DATA_PATH, 'raw/')\n",
    "\n",
    "\n",
    "# configure experiments to run; controls which data gets loaded\n",
    "experiments_to_run = {}\n",
    "experiments_to_run['pocket_classification'] = True\n",
    "experiments_to_run['binding_site_prediction'] = True\n",
    "experiments_to_run['search'] = True"
   ]
  },
  {
   "cell_type": "markdown",
   "metadata": {},
   "source": [
    "## 3. Preprocessing"
   ]
  },
  {
   "cell_type": "markdown",
   "metadata": {},
   "source": [
    "### 3.1. Data Loading\n",
    "\n",
    "This subsection depends on the `experiments_to_run` dictionary in section 2. Depending on which experiments are to be run, this subsection will find a list (in the form of a newline-separated text file in the relevant `data` directory) of structures to load, and run a script to load them into `data/raw/experiment` for the relevant experiment. This will be passed off to the next subsection, which will process the loaded data into formats that can be fed into machine learning models."
   ]
  },
  {
   "cell_type": "code",
   "execution_count": null,
   "metadata": {},
   "outputs": [],
   "source": [
    "for experiment in experiments_to_run.keys():\n",
    "    if experiments_to_run[experiment]:\n",
    "        # check if data has been loaded already, to avoid unecessary loading\n",
    "        if os.listdir(os.path.join(RAW_PATH, experiment)):\n",
    "            print('The data for this experiment has been loaded already. Moving on...')\n",
    "            continue\n",
    "        # otherwise load the data\n",
    "        path = os.path.join(DATA_PATH, experiment)\n",
    "        load_data(experiment)"
   ]
  },
  {
   "cell_type": "markdown",
   "metadata": {},
   "source": [
    "## 4. Initialize Models"
   ]
  },
  {
   "cell_type": "code",
   "execution_count": null,
   "metadata": {},
   "outputs": [],
   "source": []
  },
  {
   "cell_type": "markdown",
   "metadata": {},
   "source": [
    "## 5. Train Models"
   ]
  },
  {
   "cell_type": "code",
   "execution_count": null,
   "metadata": {},
   "outputs": [],
   "source": []
  },
  {
   "cell_type": "markdown",
   "metadata": {},
   "source": [
    "## 6. Test Models"
   ]
  },
  {
   "cell_type": "code",
   "execution_count": null,
   "metadata": {},
   "outputs": [],
   "source": []
  },
  {
   "cell_type": "markdown",
   "metadata": {},
   "source": [
    "## 7. Results"
   ]
  },
  {
   "cell_type": "code",
   "execution_count": null,
   "metadata": {},
   "outputs": [],
   "source": []
  },
  {
   "cell_type": "code",
   "execution_count": null,
   "metadata": {},
   "outputs": [],
   "source": []
  }
 ],
 "metadata": {
  "kernelspec": {
   "display_name": "Python 3",
   "language": "python",
   "name": "python3"
  },
  "language_info": {
   "codemirror_mode": {
    "name": "ipython",
    "version": 3
   },
   "file_extension": ".py",
   "mimetype": "text/x-python",
   "name": "python",
   "nbconvert_exporter": "python",
   "pygments_lexer": "ipython3",
   "version": "3.8.5"
  }
 },
 "nbformat": 4,
 "nbformat_minor": 4
}
